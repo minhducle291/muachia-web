{
 "cells": [
  {
   "cell_type": "markdown",
   "metadata": {},
   "source": [
    "#### Thư viện và Khai báo hàm"
   ]
  },
  {
   "cell_type": "code",
   "execution_count": 1,
   "metadata": {},
   "outputs": [],
   "source": [
    "import pandas as pd\n",
    "import os\n",
    "import warnings\n",
    "warnings.filterwarnings(\"ignore\")"
   ]
  },
  {
   "cell_type": "markdown",
   "metadata": {},
   "source": [
    "#### Nhu cầu hôm nay"
   ]
  },
  {
   "cell_type": "markdown",
   "metadata": {},
   "source": [
    "Đây là phần chạy dưới local"
   ]
  },
  {
   "cell_type": "code",
   "execution_count": 2,
   "metadata": {},
   "outputs": [],
   "source": [
    "#region Part 1\n",
    "date_from_today = pd.to_datetime(\"today\").strftime(\"%Y%m%d\")\n",
    "file_path = 'C:/Users/minhd/CloudMWG/2. CÔNG VIỆC/8. PROCUREMENT/minhducle/RAW-DATA/report-911/DATA-911-FRESH-' + str(date_from_today) + '.xlsx'\n",
    "df_911 = pd.read_excel(file_path, usecols=['Ngày nhận hàng','Tên sản phẩm','Tên siêu thị','Số lượng cần mua'])\n",
    "#Thêm các cột mã\n",
    "df_911['Mã sản phẩm'] = df_911['Tên sản phẩm'].str.extract('(^[0-9]{0,13})').astype('int64')\n",
    "df_911['Mã siêu thị'] = df_911['Tên siêu thị'].str.extract('(^[0-9]{0,5})').astype('int64')\n",
    "\n",
    "df_996 = pd.read_excel(r'D:\\PROJECT 101\\tools\\Kiểm tra nhu cầu siêu thị khai trương\\Khai báo\\list_product.xlsx')\n",
    "df_cudai = pd.read_excel(r'D:\\PROJECT 101\\tools\\Kiểm tra nhu cầu siêu thị khai trương\\Khai báo\\list_củ quả dài ngày.xlsx')\n",
    "df_cudai['Nhóm hàng 2'] = 'Rau địa phương - Củ dài ngày'\n",
    "df_996 = pd.merge(df_996, df_cudai[['Mã sản phẩm','Nhóm hàng 2']], how = 'left', on = 'Mã sản phẩm')\n",
    "\n",
    "df_911 = pd.merge(df_911, df_996[['Mã sản phẩm','Ngành hàng','Nhóm hàng','Nhóm hàng 2','Ngành hàng - Phân tích']],\n",
    "                  how = 'left', on = 'Mã sản phẩm')\n",
    "# Chỉ fillna cột 'Nhóm hàng 2' khi 'Ngành hàng - Phân tích' là 'Rau đà lạt'\n",
    "df_911.loc[df_911['Ngành hàng - Phân tích'] == 'Rau Đà Lạt', 'Nhóm hàng 2'] = \\\n",
    "    df_911.loc[df_911['Ngành hàng - Phân tích'] == 'Rau Đà Lạt', 'Nhóm hàng 2'].fillna(df_911['Ngành hàng - Phân tích'])\n",
    "df_911['Nhóm hàng 2'] = df_911['Nhóm hàng 2'].fillna(df_911['Nhóm hàng'])\n",
    "#endregion\n",
    "\n",
    "#region Part 2\n",
    "df_911_copy = df_911.copy()\n",
    "df_nhomhang2 = df_911[['Mã sản phẩm','Nhóm hàng 2']].drop_duplicates()\n",
    "df_nhomhang2['Mã sản phẩm'] = df_nhomhang2['Mã sản phẩm'].apply(lambda x: '{:.0f}'.format(x)).astype(str)\n",
    "\n",
    "file_path = 'C:/Users/minhd/CloudMWG/2. CÔNG VIỆC/8. PROCUREMENT/minhducle/RAW-DATA/report-135/DATA-135-FRESH-' + str(date_from_today) + '.xlsx'\n",
    "df_135 = pd.read_excel(file_path, usecols=['Thời gian gửi','Mã siêu thị','Mã sản phẩm','Tên sản phẩm'])\n",
    "\n",
    "df_135['Mã sản phẩm'] = df_135['Mã sản phẩm'].apply(lambda x: '{:.0f}'.format(x)).astype(str)\n",
    "\n",
    "df_135 = pd.merge(df_135, df_nhomhang2[['Mã sản phẩm','Nhóm hàng 2']], how = 'left', on = 'Mã sản phẩm')\n",
    "df_135['Notify'] = 1\n",
    "\n",
    "df_911_copy['Mã sản phẩm'] = df_911_copy['Mã sản phẩm'].apply(lambda x: '{:.0f}'.format(x)).astype(str)\n",
    "df_gop_911_135 = pd.merge(df_911_copy, df_135[['Mã siêu thị','Mã sản phẩm','Notify']], how = 'left', on = ['Mã siêu thị','Mã sản phẩm'])\n",
    "#endregion\n",
    "\n",
    "df_gop_911_135.to_parquet(r'D:\\PROJECT 101\\tools\\Kiểm tra nhu cầu siêu thị khai trương\\data.parquet', index = False)"
   ]
  },
  {
   "cell_type": "markdown",
   "metadata": {},
   "source": [
    "Đây là phần chạy trên nền web"
   ]
  },
  {
   "cell_type": "code",
   "execution_count": 3,
   "metadata": {},
   "outputs": [],
   "source": [
    "df = pd.read_parquet(r'D:\\PROJECT 101\\tools\\Kiểm tra nhu cầu siêu thị khai trương\\data.parquet')\n",
    "df_list_opening_store = pd.read_excel(r'D:\\PROJECT 101\\tools\\Kiểm tra nhu cầu siêu thị khai trương\\Khai báo\\list_opening_store.xlsx')\n",
    "df = pd.merge(df, df_list_opening_store, how = 'left', on = 'Mã siêu thị')\n",
    "df = df[~df['Ngày khai trương'].isna()]\n",
    "df_pivot = df.pivot_table(index=['Ngày khai trương','Ngày nhận hàng','Mã siêu thị','Tên siêu thị','Ngành hàng','Nhóm hàng 2'],\n",
    "                               values=['Mã sản phẩm','Số lượng cần mua','Notify'],\n",
    "                               aggfunc={'Mã sản phẩm': 'count', 'Số lượng cần mua': 'sum', 'Notify':'sum'}).reset_index()\n",
    "df_pivot['Số lượng cần mua'] = round(df_pivot['Số lượng cần mua'], 1)\n",
    "df_pivot.sort_values(by=['Ngày khai trương','Mã siêu thị','Ngành hàng','Mã sản phẩm','Nhóm hàng 2','Ngày nhận hàng'],\n",
    "                     ascending=[True,True,True,False,True,True], inplace=True)\n",
    "df_pivot.rename(columns={'Mã sản phẩm':'Số lượng SKU', 'Notify':'Số SKU Notify', 'Số lượng cần mua':'Tổng nhu cầu', 'Notify':'Tổng SKU Notify'}, inplace=True)\n",
    "\n",
    "df_pivot = df_pivot.sort_values(by=['Ngày khai trương','Mã siêu thị','Ngành hàng','Nhóm hàng 2','Ngày nhận hàng'],\n",
    "                                ascending=[True,True,True,True,True])\n",
    "df_dsst = pd.read_excel(r'D:\\PROJECT 101\\tools\\Kiểm tra nhu cầu siêu thị khai trương\\Khai báo\\Danh sách siêu thị.xlsx', usecols=['Mã siêu thị','Miền'])\n",
    "df_pivot = pd.merge(df_pivot, df_dsst[['Mã siêu thị','Miền']], how = 'left', on = 'Mã siêu thị')\n",
    "df_pivot['Miền'] = df_pivot['Miền'].fillna('Chưa cập nhật')\n",
    "df_pivot['Thứ (Khai trương)'] = pd.to_datetime(df_pivot['Ngày khai trương']).dt.day_name()\n",
    "df_pivot = df_pivot[['Ngày khai trương','Thứ (Khai trương)','Ngày nhận hàng','Mã siêu thị','Tên siêu thị','Miền','Ngành hàng','Nhóm hàng 2','Số lượng SKU','Tổng nhu cầu','Tổng SKU Notify']]\n",
    "df_pivot = df_pivot.reset_index(drop=True)"
   ]
  },
  {
   "cell_type": "code",
   "execution_count": 4,
   "metadata": {},
   "outputs": [
    {
     "data": {
      "application/vnd.microsoft.datawrangler.viewer.v0+json": {
       "columns": [
        {
         "name": "index",
         "rawType": "int64",
         "type": "integer"
        },
        {
         "name": "Ngày khai trương",
         "rawType": "datetime64[ns]",
         "type": "datetime"
        },
        {
         "name": "Thứ (Khai trương)",
         "rawType": "object",
         "type": "string"
        },
        {
         "name": "Ngày nhận hàng",
         "rawType": "datetime64[ns]",
         "type": "datetime"
        },
        {
         "name": "Mã siêu thị",
         "rawType": "int64",
         "type": "integer"
        },
        {
         "name": "Tên siêu thị",
         "rawType": "object",
         "type": "string"
        },
        {
         "name": "Miền",
         "rawType": "object",
         "type": "string"
        },
        {
         "name": "Ngành hàng",
         "rawType": "object",
         "type": "string"
        },
        {
         "name": "Nhóm hàng 2",
         "rawType": "object",
         "type": "string"
        },
        {
         "name": "Số lượng SKU",
         "rawType": "int64",
         "type": "integer"
        },
        {
         "name": "Tổng nhu cầu",
         "rawType": "float64",
         "type": "float"
        },
        {
         "name": "Tổng SKU Notify",
         "rawType": "float64",
         "type": "float"
        }
       ],
       "conversionMethod": "pd.DataFrame",
       "ref": "d984e470-4209-4d06-bb6d-3f2703b599f1",
       "rows": [
        [
         "0",
         "2025-04-12 00:00:00",
         "Saturday",
         "2025-04-16 00:00:00",
         "14819",
         "14819-BHX_CTH_TNO - Trung Kiên",
         "Chưa cập nhật",
         "Rau Củ Các Loại",
         "Củ quả CL",
         "19",
         "46.0",
         "11.0"
        ],
        [
         "1",
         "2025-04-12 00:00:00",
         "Saturday",
         "2025-04-15 00:00:00",
         "14819",
         "14819-BHX_CTH_TNO - Trung Kiên",
         "Chưa cập nhật",
         "Rau Củ Các Loại",
         "Hoa Tươi Các Loại",
         "4",
         "4.0",
         "0.0"
        ],
        [
         "2",
         "2025-04-12 00:00:00",
         "Saturday",
         "2025-04-15 00:00:00",
         "14819",
         "14819-BHX_CTH_TNO - Trung Kiên",
         "Chưa cập nhật",
         "Rau Củ Các Loại",
         "Nấm Các Loại",
         "9",
         "53.0",
         "4.0"
        ],
        [
         "3",
         "2025-04-12 00:00:00",
         "Saturday",
         "2025-04-16 00:00:00",
         "14819",
         "14819-BHX_CTH_TNO - Trung Kiên",
         "Chưa cập nhật",
         "Rau Củ Các Loại",
         "Nấm Các Loại",
         "8",
         "7.2",
         "4.0"
        ],
        [
         "4",
         "2025-04-12 00:00:00",
         "Saturday",
         "2025-04-16 00:00:00",
         "14819",
         "14819-BHX_CTH_TNO - Trung Kiên",
         "Chưa cập nhật",
         "Rau Củ Các Loại",
         "Rau CL",
         "32",
         "169.0",
         "16.0"
        ]
       ],
       "shape": {
        "columns": 11,
        "rows": 5
       }
      },
      "text/html": [
       "<div>\n",
       "<style scoped>\n",
       "    .dataframe tbody tr th:only-of-type {\n",
       "        vertical-align: middle;\n",
       "    }\n",
       "\n",
       "    .dataframe tbody tr th {\n",
       "        vertical-align: top;\n",
       "    }\n",
       "\n",
       "    .dataframe thead th {\n",
       "        text-align: right;\n",
       "    }\n",
       "</style>\n",
       "<table border=\"1\" class=\"dataframe\">\n",
       "  <thead>\n",
       "    <tr style=\"text-align: right;\">\n",
       "      <th></th>\n",
       "      <th>Ngày khai trương</th>\n",
       "      <th>Thứ (Khai trương)</th>\n",
       "      <th>Ngày nhận hàng</th>\n",
       "      <th>Mã siêu thị</th>\n",
       "      <th>Tên siêu thị</th>\n",
       "      <th>Miền</th>\n",
       "      <th>Ngành hàng</th>\n",
       "      <th>Nhóm hàng 2</th>\n",
       "      <th>Số lượng SKU</th>\n",
       "      <th>Tổng nhu cầu</th>\n",
       "      <th>Tổng SKU Notify</th>\n",
       "    </tr>\n",
       "  </thead>\n",
       "  <tbody>\n",
       "    <tr>\n",
       "      <th>0</th>\n",
       "      <td>2025-04-12</td>\n",
       "      <td>Saturday</td>\n",
       "      <td>2025-04-16</td>\n",
       "      <td>14819</td>\n",
       "      <td>14819-BHX_CTH_TNO - Trung Kiên</td>\n",
       "      <td>Chưa cập nhật</td>\n",
       "      <td>Rau Củ Các Loại</td>\n",
       "      <td>Củ quả CL</td>\n",
       "      <td>19</td>\n",
       "      <td>46.0</td>\n",
       "      <td>11.0</td>\n",
       "    </tr>\n",
       "    <tr>\n",
       "      <th>1</th>\n",
       "      <td>2025-04-12</td>\n",
       "      <td>Saturday</td>\n",
       "      <td>2025-04-15</td>\n",
       "      <td>14819</td>\n",
       "      <td>14819-BHX_CTH_TNO - Trung Kiên</td>\n",
       "      <td>Chưa cập nhật</td>\n",
       "      <td>Rau Củ Các Loại</td>\n",
       "      <td>Hoa Tươi Các Loại</td>\n",
       "      <td>4</td>\n",
       "      <td>4.0</td>\n",
       "      <td>0.0</td>\n",
       "    </tr>\n",
       "    <tr>\n",
       "      <th>2</th>\n",
       "      <td>2025-04-12</td>\n",
       "      <td>Saturday</td>\n",
       "      <td>2025-04-15</td>\n",
       "      <td>14819</td>\n",
       "      <td>14819-BHX_CTH_TNO - Trung Kiên</td>\n",
       "      <td>Chưa cập nhật</td>\n",
       "      <td>Rau Củ Các Loại</td>\n",
       "      <td>Nấm Các Loại</td>\n",
       "      <td>9</td>\n",
       "      <td>53.0</td>\n",
       "      <td>4.0</td>\n",
       "    </tr>\n",
       "    <tr>\n",
       "      <th>3</th>\n",
       "      <td>2025-04-12</td>\n",
       "      <td>Saturday</td>\n",
       "      <td>2025-04-16</td>\n",
       "      <td>14819</td>\n",
       "      <td>14819-BHX_CTH_TNO - Trung Kiên</td>\n",
       "      <td>Chưa cập nhật</td>\n",
       "      <td>Rau Củ Các Loại</td>\n",
       "      <td>Nấm Các Loại</td>\n",
       "      <td>8</td>\n",
       "      <td>7.2</td>\n",
       "      <td>4.0</td>\n",
       "    </tr>\n",
       "    <tr>\n",
       "      <th>4</th>\n",
       "      <td>2025-04-12</td>\n",
       "      <td>Saturday</td>\n",
       "      <td>2025-04-16</td>\n",
       "      <td>14819</td>\n",
       "      <td>14819-BHX_CTH_TNO - Trung Kiên</td>\n",
       "      <td>Chưa cập nhật</td>\n",
       "      <td>Rau Củ Các Loại</td>\n",
       "      <td>Rau CL</td>\n",
       "      <td>32</td>\n",
       "      <td>169.0</td>\n",
       "      <td>16.0</td>\n",
       "    </tr>\n",
       "  </tbody>\n",
       "</table>\n",
       "</div>"
      ],
      "text/plain": [
       "  Ngày khai trương Thứ (Khai trương) Ngày nhận hàng  Mã siêu thị  \\\n",
       "0       2025-04-12          Saturday     2025-04-16        14819   \n",
       "1       2025-04-12          Saturday     2025-04-15        14819   \n",
       "2       2025-04-12          Saturday     2025-04-15        14819   \n",
       "3       2025-04-12          Saturday     2025-04-16        14819   \n",
       "4       2025-04-12          Saturday     2025-04-16        14819   \n",
       "\n",
       "                     Tên siêu thị           Miền       Ngành hàng  \\\n",
       "0  14819-BHX_CTH_TNO - Trung Kiên  Chưa cập nhật  Rau Củ Các Loại   \n",
       "1  14819-BHX_CTH_TNO - Trung Kiên  Chưa cập nhật  Rau Củ Các Loại   \n",
       "2  14819-BHX_CTH_TNO - Trung Kiên  Chưa cập nhật  Rau Củ Các Loại   \n",
       "3  14819-BHX_CTH_TNO - Trung Kiên  Chưa cập nhật  Rau Củ Các Loại   \n",
       "4  14819-BHX_CTH_TNO - Trung Kiên  Chưa cập nhật  Rau Củ Các Loại   \n",
       "\n",
       "         Nhóm hàng 2  Số lượng SKU  Tổng nhu cầu  Tổng SKU Notify  \n",
       "0          Củ quả CL            19          46.0             11.0  \n",
       "1  Hoa Tươi Các Loại             4           4.0              0.0  \n",
       "2       Nấm Các Loại             9          53.0              4.0  \n",
       "3       Nấm Các Loại             8           7.2              4.0  \n",
       "4             Rau CL            32         169.0             16.0  "
      ]
     },
     "execution_count": 4,
     "metadata": {},
     "output_type": "execute_result"
    }
   ],
   "source": [
    "df_pivot.head()"
   ]
  }
 ],
 "metadata": {
  "kernelspec": {
   "display_name": "Python 3",
   "language": "python",
   "name": "python3"
  },
  "language_info": {
   "codemirror_mode": {
    "name": "ipython",
    "version": 3
   },
   "file_extension": ".py",
   "mimetype": "text/x-python",
   "name": "python",
   "nbconvert_exporter": "python",
   "pygments_lexer": "ipython3",
   "version": "3.11.6"
  }
 },
 "nbformat": 4,
 "nbformat_minor": 2
}
