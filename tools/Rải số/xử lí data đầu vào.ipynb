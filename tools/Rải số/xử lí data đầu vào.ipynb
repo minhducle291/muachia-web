{
 "cells": [
  {
   "cell_type": "code",
   "execution_count": null,
   "id": "73c0261e",
   "metadata": {},
   "outputs": [
    {
     "name": "stdout",
     "output_type": "stream",
     "text": [
      "Danh sách sản phẩm\n",
      "Danh sách siêu thị\n",
      "Lịch đích danh siêu thị - sản phẩm\n"
     ]
    }
   ],
   "source": [
    "import pandas as pd\n",
    "print('Danh sách sản phẩm')\n",
    "df_sanpham = pd.read_excel(r'D:\\PROJECT 101\\external data\\Danh sách sản phẩm.xlsx')\n",
    "df_sanpham.to_parquet(r'D:\\PROJECT 101\\tools\\Rải số\\Khai báo\\Parquet\\Danh sách sản phẩm.parquet')\n",
    "\n",
    "print('Danh sách siêu thị')\n",
    "df_sieuthi = pd.read_excel(r'D:\\PROJECT 101\\external data\\Danh sách siêu thị.xlsx')\n",
    "df_sieuthi.to_parquet(r'D:\\PROJECT 101\\tools\\Rải số\\Khai báo\\Parquet\\Danh sách siêu thị.parquet')\n",
    "\n",
    "print('Lịch đích danh siêu thị - sản phẩm')\n",
    "df_lichvehang = pd.read_excel(r'D:\\PROJECT 101\\tools\\Rải số\\Khai báo\\Excel\\dữ liệu lịch về hàng - bc3401.xlsx')\n",
    "df_lichvehang.to_parquet(r'D:\\PROJECT 101\\tools\\Rải số\\Khai báo\\Parquet\\dữ liệu lịch về hàng - bc340.parquet')\n",
    "\n",
    "print('Dữ liệu vòng đời sản phẩm')\n",
    "df_vongdoi = pd.read_excel(r'D:\\PROJECT 101\\tools\\Rải số\\Khai báo\\Excel\\dữ liệu vòng đời đang khai báo.xlsx')\n",
    "df_vongdoi.to_parquet(r'D:\\PROJECT 101\\tools\\Rải số\\Khai báo\\Parquet\\dữ liệu vòng đời đang khai báo.parquet')\n",
    "\n",
    "print('Dữ liệu số mua đều')\n",
    "df_muadeu = pd.read_excel(r'D:\\PROJECT 101\\tools\\Rải số\\Khai báo\\Excel\\dữ liệu khai báo mua đều hiện tại.xlsx')\n",
    "df_muadeu.to_parquet(r'D:\\PROJECT 101\\tools\\Rải số\\Khai báo\\Parquet\\dữ liệu khai báo mua đều hiện tại.parquet')"
   ]
  }
 ],
 "metadata": {
  "kernelspec": {
   "display_name": "Python 3",
   "language": "python",
   "name": "python3"
  },
  "language_info": {
   "codemirror_mode": {
    "name": "ipython",
    "version": 3
   },
   "file_extension": ".py",
   "mimetype": "text/x-python",
   "name": "python",
   "nbconvert_exporter": "python",
   "pygments_lexer": "ipython3",
   "version": "3.11.6"
  }
 },
 "nbformat": 4,
 "nbformat_minor": 5
}
